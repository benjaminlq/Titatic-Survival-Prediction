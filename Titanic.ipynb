{
 "cells": [
  {
   "cell_type": "code",
   "execution_count": 1,
   "id": "13646cc0",
   "metadata": {},
   "outputs": [],
   "source": [
    "import numpy as np\n",
    "import pandas as pd \n",
    "import matplotlib.pyplot as plt\n",
    "import seaborn as sns\n",
    "from sklearn import linear_model, preprocessing, tree, ensemble\n",
    "from sklearn import model_selection"
   ]
  },
  {
   "cell_type": "code",
   "execution_count": 2,
   "id": "619e9a8b",
   "metadata": {},
   "outputs": [],
   "source": [
    "data_org = pd.read_csv(\"train.csv\")\n",
    "data_test = pd.read_csv(\"test.csv\")"
   ]
  },
  {
   "cell_type": "code",
   "execution_count": 3,
   "id": "ddde7bc1",
   "metadata": {},
   "outputs": [
    {
     "data": {
      "text/html": [
       "<div>\n",
       "<style scoped>\n",
       "    .dataframe tbody tr th:only-of-type {\n",
       "        vertical-align: middle;\n",
       "    }\n",
       "\n",
       "    .dataframe tbody tr th {\n",
       "        vertical-align: top;\n",
       "    }\n",
       "\n",
       "    .dataframe thead th {\n",
       "        text-align: right;\n",
       "    }\n",
       "</style>\n",
       "<table border=\"1\" class=\"dataframe\">\n",
       "  <thead>\n",
       "    <tr style=\"text-align: right;\">\n",
       "      <th></th>\n",
       "      <th>PassengerId</th>\n",
       "      <th>Survived</th>\n",
       "      <th>Pclass</th>\n",
       "      <th>Name</th>\n",
       "      <th>Sex</th>\n",
       "      <th>Age</th>\n",
       "      <th>SibSp</th>\n",
       "      <th>Parch</th>\n",
       "      <th>Ticket</th>\n",
       "      <th>Fare</th>\n",
       "      <th>Cabin</th>\n",
       "      <th>Embarked</th>\n",
       "    </tr>\n",
       "  </thead>\n",
       "  <tbody>\n",
       "    <tr>\n",
       "      <th>0</th>\n",
       "      <td>1</td>\n",
       "      <td>0</td>\n",
       "      <td>3</td>\n",
       "      <td>Braund, Mr. Owen Harris</td>\n",
       "      <td>male</td>\n",
       "      <td>22.0</td>\n",
       "      <td>1</td>\n",
       "      <td>0</td>\n",
       "      <td>A/5 21171</td>\n",
       "      <td>7.2500</td>\n",
       "      <td>NaN</td>\n",
       "      <td>S</td>\n",
       "    </tr>\n",
       "    <tr>\n",
       "      <th>1</th>\n",
       "      <td>2</td>\n",
       "      <td>1</td>\n",
       "      <td>1</td>\n",
       "      <td>Cumings, Mrs. John Bradley (Florence Briggs Th...</td>\n",
       "      <td>female</td>\n",
       "      <td>38.0</td>\n",
       "      <td>1</td>\n",
       "      <td>0</td>\n",
       "      <td>PC 17599</td>\n",
       "      <td>71.2833</td>\n",
       "      <td>C85</td>\n",
       "      <td>C</td>\n",
       "    </tr>\n",
       "    <tr>\n",
       "      <th>2</th>\n",
       "      <td>3</td>\n",
       "      <td>1</td>\n",
       "      <td>3</td>\n",
       "      <td>Heikkinen, Miss. Laina</td>\n",
       "      <td>female</td>\n",
       "      <td>26.0</td>\n",
       "      <td>0</td>\n",
       "      <td>0</td>\n",
       "      <td>STON/O2. 3101282</td>\n",
       "      <td>7.9250</td>\n",
       "      <td>NaN</td>\n",
       "      <td>S</td>\n",
       "    </tr>\n",
       "    <tr>\n",
       "      <th>3</th>\n",
       "      <td>4</td>\n",
       "      <td>1</td>\n",
       "      <td>1</td>\n",
       "      <td>Futrelle, Mrs. Jacques Heath (Lily May Peel)</td>\n",
       "      <td>female</td>\n",
       "      <td>35.0</td>\n",
       "      <td>1</td>\n",
       "      <td>0</td>\n",
       "      <td>113803</td>\n",
       "      <td>53.1000</td>\n",
       "      <td>C123</td>\n",
       "      <td>S</td>\n",
       "    </tr>\n",
       "    <tr>\n",
       "      <th>4</th>\n",
       "      <td>5</td>\n",
       "      <td>0</td>\n",
       "      <td>3</td>\n",
       "      <td>Allen, Mr. William Henry</td>\n",
       "      <td>male</td>\n",
       "      <td>35.0</td>\n",
       "      <td>0</td>\n",
       "      <td>0</td>\n",
       "      <td>373450</td>\n",
       "      <td>8.0500</td>\n",
       "      <td>NaN</td>\n",
       "      <td>S</td>\n",
       "    </tr>\n",
       "  </tbody>\n",
       "</table>\n",
       "</div>"
      ],
      "text/plain": [
       "   PassengerId  Survived  Pclass  \\\n",
       "0            1         0       3   \n",
       "1            2         1       1   \n",
       "2            3         1       3   \n",
       "3            4         1       1   \n",
       "4            5         0       3   \n",
       "\n",
       "                                                Name     Sex   Age  SibSp  \\\n",
       "0                            Braund, Mr. Owen Harris    male  22.0      1   \n",
       "1  Cumings, Mrs. John Bradley (Florence Briggs Th...  female  38.0      1   \n",
       "2                             Heikkinen, Miss. Laina  female  26.0      0   \n",
       "3       Futrelle, Mrs. Jacques Heath (Lily May Peel)  female  35.0      1   \n",
       "4                           Allen, Mr. William Henry    male  35.0      0   \n",
       "\n",
       "   Parch            Ticket     Fare Cabin Embarked  \n",
       "0      0         A/5 21171   7.2500   NaN        S  \n",
       "1      0          PC 17599  71.2833   C85        C  \n",
       "2      0  STON/O2. 3101282   7.9250   NaN        S  \n",
       "3      0            113803  53.1000  C123        S  \n",
       "4      0            373450   8.0500   NaN        S  "
      ]
     },
     "execution_count": 3,
     "metadata": {},
     "output_type": "execute_result"
    }
   ],
   "source": [
    "data_org.head()"
   ]
  },
  {
   "cell_type": "code",
   "execution_count": 4,
   "id": "32b4c888",
   "metadata": {},
   "outputs": [],
   "source": [
    "data_org.drop(columns = ['Name','Ticket'], inplace = True)\n",
    "data_test.drop(columns = ['Name','Ticket'], inplace = True)"
   ]
  },
  {
   "cell_type": "code",
   "execution_count": 5,
   "id": "38988836",
   "metadata": {},
   "outputs": [
    {
     "data": {
      "text/html": [
       "<div>\n",
       "<style scoped>\n",
       "    .dataframe tbody tr th:only-of-type {\n",
       "        vertical-align: middle;\n",
       "    }\n",
       "\n",
       "    .dataframe tbody tr th {\n",
       "        vertical-align: top;\n",
       "    }\n",
       "\n",
       "    .dataframe thead th {\n",
       "        text-align: right;\n",
       "    }\n",
       "</style>\n",
       "<table border=\"1\" class=\"dataframe\">\n",
       "  <thead>\n",
       "    <tr style=\"text-align: right;\">\n",
       "      <th></th>\n",
       "      <th>PassengerId</th>\n",
       "      <th>Pclass</th>\n",
       "      <th>Sex</th>\n",
       "      <th>Age</th>\n",
       "      <th>SibSp</th>\n",
       "      <th>Parch</th>\n",
       "      <th>Fare</th>\n",
       "      <th>Cabin</th>\n",
       "      <th>Embarked</th>\n",
       "    </tr>\n",
       "  </thead>\n",
       "  <tbody>\n",
       "    <tr>\n",
       "      <th>0</th>\n",
       "      <td>892</td>\n",
       "      <td>3</td>\n",
       "      <td>male</td>\n",
       "      <td>34.5</td>\n",
       "      <td>0</td>\n",
       "      <td>0</td>\n",
       "      <td>7.8292</td>\n",
       "      <td>NaN</td>\n",
       "      <td>Q</td>\n",
       "    </tr>\n",
       "    <tr>\n",
       "      <th>1</th>\n",
       "      <td>893</td>\n",
       "      <td>3</td>\n",
       "      <td>female</td>\n",
       "      <td>47.0</td>\n",
       "      <td>1</td>\n",
       "      <td>0</td>\n",
       "      <td>7.0000</td>\n",
       "      <td>NaN</td>\n",
       "      <td>S</td>\n",
       "    </tr>\n",
       "    <tr>\n",
       "      <th>2</th>\n",
       "      <td>894</td>\n",
       "      <td>2</td>\n",
       "      <td>male</td>\n",
       "      <td>62.0</td>\n",
       "      <td>0</td>\n",
       "      <td>0</td>\n",
       "      <td>9.6875</td>\n",
       "      <td>NaN</td>\n",
       "      <td>Q</td>\n",
       "    </tr>\n",
       "    <tr>\n",
       "      <th>3</th>\n",
       "      <td>895</td>\n",
       "      <td>3</td>\n",
       "      <td>male</td>\n",
       "      <td>27.0</td>\n",
       "      <td>0</td>\n",
       "      <td>0</td>\n",
       "      <td>8.6625</td>\n",
       "      <td>NaN</td>\n",
       "      <td>S</td>\n",
       "    </tr>\n",
       "    <tr>\n",
       "      <th>4</th>\n",
       "      <td>896</td>\n",
       "      <td>3</td>\n",
       "      <td>female</td>\n",
       "      <td>22.0</td>\n",
       "      <td>1</td>\n",
       "      <td>1</td>\n",
       "      <td>12.2875</td>\n",
       "      <td>NaN</td>\n",
       "      <td>S</td>\n",
       "    </tr>\n",
       "  </tbody>\n",
       "</table>\n",
       "</div>"
      ],
      "text/plain": [
       "   PassengerId  Pclass     Sex   Age  SibSp  Parch     Fare Cabin Embarked\n",
       "0          892       3    male  34.5      0      0   7.8292   NaN        Q\n",
       "1          893       3  female  47.0      1      0   7.0000   NaN        S\n",
       "2          894       2    male  62.0      0      0   9.6875   NaN        Q\n",
       "3          895       3    male  27.0      0      0   8.6625   NaN        S\n",
       "4          896       3  female  22.0      1      1  12.2875   NaN        S"
      ]
     },
     "execution_count": 5,
     "metadata": {},
     "output_type": "execute_result"
    }
   ],
   "source": [
    "data_test.head()"
   ]
  },
  {
   "cell_type": "code",
   "execution_count": 6,
   "id": "40009e5f",
   "metadata": {},
   "outputs": [
    {
     "data": {
      "text/plain": [
       "PassengerId      0\n",
       "Survived         0\n",
       "Pclass           0\n",
       "Sex              0\n",
       "Age            177\n",
       "SibSp            0\n",
       "Parch            0\n",
       "Fare             0\n",
       "Cabin          687\n",
       "Embarked         2\n",
       "dtype: int64"
      ]
     },
     "execution_count": 6,
     "metadata": {},
     "output_type": "execute_result"
    }
   ],
   "source": [
    "data_org.isnull().sum()"
   ]
  },
  {
   "cell_type": "code",
   "execution_count": 7,
   "id": "0aceb2ea",
   "metadata": {},
   "outputs": [
    {
     "data": {
      "text/plain": [
       "PassengerId      0\n",
       "Pclass           0\n",
       "Sex              0\n",
       "Age             86\n",
       "SibSp            0\n",
       "Parch            0\n",
       "Fare             1\n",
       "Cabin          327\n",
       "Embarked         0\n",
       "dtype: int64"
      ]
     },
     "execution_count": 7,
     "metadata": {},
     "output_type": "execute_result"
    }
   ],
   "source": [
    "data_test.isnull().sum()"
   ]
  },
  {
   "cell_type": "code",
   "execution_count": 8,
   "id": "8943e505",
   "metadata": {
    "scrolled": true
   },
   "outputs": [
    {
     "data": {
      "text/plain": [
       "<AxesSubplot:xlabel='Cabin', ylabel='count'>"
      ]
     },
     "execution_count": 8,
     "metadata": {},
     "output_type": "execute_result"
    },
    {
     "data": {
      "image/png": "[encoded data removed]",
      "text/plain": [
       "<Figure size 864x432 with 1 Axes>"
      ]
     },
     "metadata": {
      "needs_background": "light"
     },
     "output_type": "display_data"
    }
   ],
   "source": [
    "data_org['Cabin'] = data_org['Cabin'].apply(lambda x: str(x)[0] if not pd.isna(x) else 'NaN')\n",
    "data_org.fillna('NaN')\n",
    "plt.figure(figsize = (12,6))\n",
    "sns.countplot(x = 'Cabin', hue = 'Survived', data = data_org)"
   ]
  },
  {
   "cell_type": "code",
   "execution_count": 9,
   "id": "cd842c0d",
   "metadata": {},
   "outputs": [
    {
     "data": {
      "text/html": [
       "<div>\n",
       "<style scoped>\n",
       "    .dataframe tbody tr th:only-of-type {\n",
       "        vertical-align: middle;\n",
       "    }\n",
       "\n",
       "    .dataframe tbody tr th {\n",
       "        vertical-align: top;\n",
       "    }\n",
       "\n",
       "    .dataframe thead th {\n",
       "        text-align: right;\n",
       "    }\n",
       "</style>\n",
       "<table border=\"1\" class=\"dataframe\">\n",
       "  <thead>\n",
       "    <tr style=\"text-align: right;\">\n",
       "      <th></th>\n",
       "      <th>PassengerId</th>\n",
       "      <th>Pclass</th>\n",
       "      <th>Sex</th>\n",
       "      <th>Age</th>\n",
       "      <th>SibSp</th>\n",
       "      <th>Parch</th>\n",
       "      <th>Fare</th>\n",
       "      <th>Cabin</th>\n",
       "      <th>Embarked</th>\n",
       "    </tr>\n",
       "  </thead>\n",
       "  <tbody>\n",
       "    <tr>\n",
       "      <th>0</th>\n",
       "      <td>892</td>\n",
       "      <td>3</td>\n",
       "      <td>male</td>\n",
       "      <td>34.5</td>\n",
       "      <td>0</td>\n",
       "      <td>0</td>\n",
       "      <td>7.8292</td>\n",
       "      <td>NaN</td>\n",
       "      <td>Q</td>\n",
       "    </tr>\n",
       "    <tr>\n",
       "      <th>1</th>\n",
       "      <td>893</td>\n",
       "      <td>3</td>\n",
       "      <td>female</td>\n",
       "      <td>47.0</td>\n",
       "      <td>1</td>\n",
       "      <td>0</td>\n",
       "      <td>7.0</td>\n",
       "      <td>NaN</td>\n",
       "      <td>S</td>\n",
       "    </tr>\n",
       "    <tr>\n",
       "      <th>2</th>\n",
       "      <td>894</td>\n",
       "      <td>2</td>\n",
       "      <td>male</td>\n",
       "      <td>62.0</td>\n",
       "      <td>0</td>\n",
       "      <td>0</td>\n",
       "      <td>9.6875</td>\n",
       "      <td>NaN</td>\n",
       "      <td>Q</td>\n",
       "    </tr>\n",
       "    <tr>\n",
       "      <th>3</th>\n",
       "      <td>895</td>\n",
       "      <td>3</td>\n",
       "      <td>male</td>\n",
       "      <td>27.0</td>\n",
       "      <td>0</td>\n",
       "      <td>0</td>\n",
       "      <td>8.6625</td>\n",
       "      <td>NaN</td>\n",
       "      <td>S</td>\n",
       "    </tr>\n",
       "    <tr>\n",
       "      <th>4</th>\n",
       "      <td>896</td>\n",
       "      <td>3</td>\n",
       "      <td>female</td>\n",
       "      <td>22.0</td>\n",
       "      <td>1</td>\n",
       "      <td>1</td>\n",
       "      <td>12.2875</td>\n",
       "      <td>NaN</td>\n",
       "      <td>S</td>\n",
       "    </tr>\n",
       "    <tr>\n",
       "      <th>...</th>\n",
       "      <td>...</td>\n",
       "      <td>...</td>\n",
       "      <td>...</td>\n",
       "      <td>...</td>\n",
       "      <td>...</td>\n",
       "      <td>...</td>\n",
       "      <td>...</td>\n",
       "      <td>...</td>\n",
       "      <td>...</td>\n",
       "    </tr>\n",
       "    <tr>\n",
       "      <th>413</th>\n",
       "      <td>1305</td>\n",
       "      <td>3</td>\n",
       "      <td>male</td>\n",
       "      <td>NaN</td>\n",
       "      <td>0</td>\n",
       "      <td>0</td>\n",
       "      <td>8.05</td>\n",
       "      <td>NaN</td>\n",
       "      <td>S</td>\n",
       "    </tr>\n",
       "    <tr>\n",
       "      <th>414</th>\n",
       "      <td>1306</td>\n",
       "      <td>1</td>\n",
       "      <td>female</td>\n",
       "      <td>39.0</td>\n",
       "      <td>0</td>\n",
       "      <td>0</td>\n",
       "      <td>108.9</td>\n",
       "      <td>C</td>\n",
       "      <td>C</td>\n",
       "    </tr>\n",
       "    <tr>\n",
       "      <th>415</th>\n",
       "      <td>1307</td>\n",
       "      <td>3</td>\n",
       "      <td>male</td>\n",
       "      <td>38.5</td>\n",
       "      <td>0</td>\n",
       "      <td>0</td>\n",
       "      <td>7.25</td>\n",
       "      <td>NaN</td>\n",
       "      <td>S</td>\n",
       "    </tr>\n",
       "    <tr>\n",
       "      <th>416</th>\n",
       "      <td>1308</td>\n",
       "      <td>3</td>\n",
       "      <td>male</td>\n",
       "      <td>NaN</td>\n",
       "      <td>0</td>\n",
       "      <td>0</td>\n",
       "      <td>8.05</td>\n",
       "      <td>NaN</td>\n",
       "      <td>S</td>\n",
       "    </tr>\n",
       "    <tr>\n",
       "      <th>417</th>\n",
       "      <td>1309</td>\n",
       "      <td>3</td>\n",
       "      <td>male</td>\n",
       "      <td>NaN</td>\n",
       "      <td>1</td>\n",
       "      <td>1</td>\n",
       "      <td>22.3583</td>\n",
       "      <td>NaN</td>\n",
       "      <td>C</td>\n",
       "    </tr>\n",
       "  </tbody>\n",
       "</table>\n",
       "<p>418 rows × 9 columns</p>\n",
       "</div>"
      ],
      "text/plain": [
       "     PassengerId  Pclass     Sex   Age  SibSp  Parch     Fare Cabin Embarked\n",
       "0            892       3    male  34.5      0      0   7.8292   NaN        Q\n",
       "1            893       3  female  47.0      1      0      7.0   NaN        S\n",
       "2            894       2    male  62.0      0      0   9.6875   NaN        Q\n",
       "3            895       3    male  27.0      0      0   8.6625   NaN        S\n",
       "4            896       3  female  22.0      1      1  12.2875   NaN        S\n",
       "..           ...     ...     ...   ...    ...    ...      ...   ...      ...\n",
       "413         1305       3    male   NaN      0      0     8.05   NaN        S\n",
       "414         1306       1  female  39.0      0      0    108.9     C        C\n",
       "415         1307       3    male  38.5      0      0     7.25   NaN        S\n",
       "416         1308       3    male   NaN      0      0     8.05   NaN        S\n",
       "417         1309       3    male   NaN      1      1  22.3583   NaN        C\n",
       "\n",
       "[418 rows x 9 columns]"
      ]
     },
     "execution_count": 9,
     "metadata": {},
     "output_type": "execute_result"
    }
   ],
   "source": [
    "data_test['Cabin'] = data_test['Cabin'].apply(lambda x: str(x)[0] if not pd.isna(x) else 'NaN')\n",
    "data_test.fillna('NaN')"
   ]
  },
  {
   "cell_type": "code",
   "execution_count": 10,
   "id": "29246338",
   "metadata": {},
   "outputs": [
    {
     "data": {
      "image/png": "[encoded data removed]",
      "text/plain": [
       "<Figure size 1296x864 with 5 Axes>"
      ]
     },
     "metadata": {
      "needs_background": "light"
     },
     "output_type": "display_data"
    }
   ],
   "source": [
    "vars = ['Pclass','Sex','SibSp','Parch','Cabin','Embarked']\n",
    "plt.figure(figsize = (18,12))\n",
    "for i in range(2):\n",
    "    for j in range(3):\n",
    "        ind = i*2 + j\n",
    "        plt.subplot(2,3,ind + 1)\n",
    "        sns.countplot(x = vars[ind], hue = 'Survived', data = data_org)"
   ]
  },
  {
   "cell_type": "code",
   "execution_count": 11,
   "id": "ea2a0ff6",
   "metadata": {},
   "outputs": [
    {
     "data": {
      "text/plain": [
       "<AxesSubplot:xlabel='Fare', ylabel='Count'>"
      ]
     },
     "execution_count": 11,
     "metadata": {},
     "output_type": "execute_result"
    },
    {
     "data": {
      "image/png": "[encoded data removed]",
      "text/plain": [
       "<Figure size 864x432 with 2 Axes>"
      ]
     },
     "metadata": {
      "needs_background": "light"
     },
     "output_type": "display_data"
    }
   ],
   "source": [
    "num_vars = ['Age','Fare']\n",
    "plt.figure(figsize = (12,6))\n",
    "plt.subplot(1,2,1)\n",
    "sns.histplot(x = 'Age', data = data_org)\n",
    "plt.subplot(1,2,2)\n",
    "sns.histplot(x = 'Fare', data = data_org)"
   ]
  },
  {
   "cell_type": "code",
   "execution_count": 12,
   "id": "6c57f445",
   "metadata": {},
   "outputs": [
    {
     "data": {
      "text/plain": [
       "<AxesSubplot:>"
      ]
     },
     "execution_count": 12,
     "metadata": {},
     "output_type": "execute_result"
    },
    {
     "data": {
      "image/png": "[encoded data removed]",
      "text/plain": [
       "<Figure size 576x576 with 2 Axes>"
      ]
     },
     "metadata": {
      "needs_background": "light"
     },
     "output_type": "display_data"
    }
   ],
   "source": [
    "var = ['Age','Fare','Pclass','SibSp','Parch']\n",
    "pearson_mat = data_org[var].corr()\n",
    "plt.figure(figsize = (8,8))\n",
    "sns.heatmap(pearson_mat,annot = True, cmap = \"coolwarm\")"
   ]
  },
  {
   "cell_type": "markdown",
   "id": "76760ae0",
   "metadata": {},
   "source": [
    "# Feature Engineering"
   ]
  },
  {
   "cell_type": "markdown",
   "id": "195851d2",
   "metadata": {},
   "source": [
    "## 1. Missing Data "
   ]
  },
  {
   "cell_type": "code",
   "execution_count": 13,
   "id": "96bc3ff2",
   "metadata": {
    "scrolled": true
   },
   "outputs": [
    {
     "data": {
      "text/plain": [
       "PassengerId      0\n",
       "Survived         0\n",
       "Pclass           0\n",
       "Sex              0\n",
       "Age            177\n",
       "SibSp            0\n",
       "Parch            0\n",
       "Fare             0\n",
       "Cabin            0\n",
       "Embarked         2\n",
       "dtype: int64"
      ]
     },
     "execution_count": 13,
     "metadata": {},
     "output_type": "execute_result"
    }
   ],
   "source": [
    "data_org.isnull().sum()"
   ]
  },
  {
   "cell_type": "code",
   "execution_count": 14,
   "id": "e4a3331a",
   "metadata": {},
   "outputs": [
    {
     "data": {
      "text/plain": [
       "PassengerId     0\n",
       "Pclass          0\n",
       "Sex             0\n",
       "Age            86\n",
       "SibSp           0\n",
       "Parch           0\n",
       "Fare            1\n",
       "Cabin           0\n",
       "Embarked        0\n",
       "dtype: int64"
      ]
     },
     "execution_count": 14,
     "metadata": {},
     "output_type": "execute_result"
    }
   ],
   "source": [
    "data_test.isnull().sum()"
   ]
  },
  {
   "cell_type": "markdown",
   "id": "a39ef66a",
   "metadata": {},
   "source": [
    "#### a/ Fare and Embarked\n",
    "For Fare, we know that the fare is correlated to the Pclass of the ticket. Hence, to fill in the missing value for Fare, we find the median value of the Pclass which this person belongs to.\n",
    "For Embarked, since the number of missing data is small and this variable does not appear to have correlation with other variables, we simply fill in with the most common values, i.e. mode of embarked"
   ]
  },
  {
   "cell_type": "code",
   "execution_count": 15,
   "id": "583a9822",
   "metadata": {},
   "outputs": [],
   "source": [
    "pclass_df = pd.DataFrame(data_org.groupby('Pclass')['Fare'].median()) \n",
    "pclass_df.reset_index(inplace = True)\n",
    "for i in range(len(data_test)):\n",
    "    if pd.isna(data_test.iloc[i,6]):\n",
    "        data_test.iloc[i,6] = pclass_df[pclass_df['Pclass'] == data_test.iloc[i,1]]['Fare']"
   ]
  },
  {
   "cell_type": "code",
   "execution_count": 16,
   "id": "f9084c2b",
   "metadata": {},
   "outputs": [],
   "source": [
    "data_org['Embarked'].fillna(data_org['Embarked'].value_counts().sort_values(ascending = False).index[0],\n",
    "                           inplace = True)"
   ]
  },
  {
   "cell_type": "code",
   "execution_count": 17,
   "id": "affe0880",
   "metadata": {},
   "outputs": [
    {
     "data": {
      "text/plain": [
       "'S'"
      ]
     },
     "execution_count": 17,
     "metadata": {},
     "output_type": "execute_result"
    }
   ],
   "source": [
    "data_org['Embarked'].value_counts().sort_values(ascending = False).index[0]"
   ]
  },
  {
   "cell_type": "markdown",
   "id": "0f15fcaa",
   "metadata": {},
   "source": [
    "#### b/ Age\n",
    "Similarly, as Age is have the highest correlation with Pclass and SibSp, we will use the median values of a particular combination of Pclass and SibSp to fill in the Missing values."
   ]
  },
  {
   "cell_type": "code",
   "execution_count": 18,
   "id": "23dd616c",
   "metadata": {
    "scrolled": true
   },
   "outputs": [
    {
     "data": {
      "text/html": [
       "<div>\n",
       "<style scoped>\n",
       "    .dataframe tbody tr th:only-of-type {\n",
       "        vertical-align: middle;\n",
       "    }\n",
       "\n",
       "    .dataframe tbody tr th {\n",
       "        vertical-align: top;\n",
       "    }\n",
       "\n",
       "    .dataframe thead th {\n",
       "        text-align: right;\n",
       "    }\n",
       "</style>\n",
       "<table border=\"1\" class=\"dataframe\">\n",
       "  <thead>\n",
       "    <tr style=\"text-align: right;\">\n",
       "      <th></th>\n",
       "      <th>Pclass</th>\n",
       "      <th>SibSp</th>\n",
       "      <th>Age</th>\n",
       "    </tr>\n",
       "  </thead>\n",
       "  <tbody>\n",
       "    <tr>\n",
       "      <th>0</th>\n",
       "      <td>1</td>\n",
       "      <td>0</td>\n",
       "      <td>37.00</td>\n",
       "    </tr>\n",
       "    <tr>\n",
       "      <th>1</th>\n",
       "      <td>1</td>\n",
       "      <td>1</td>\n",
       "      <td>38.00</td>\n",
       "    </tr>\n",
       "    <tr>\n",
       "      <th>2</th>\n",
       "      <td>1</td>\n",
       "      <td>2</td>\n",
       "      <td>44.00</td>\n",
       "    </tr>\n",
       "    <tr>\n",
       "      <th>3</th>\n",
       "      <td>1</td>\n",
       "      <td>3</td>\n",
       "      <td>23.00</td>\n",
       "    </tr>\n",
       "    <tr>\n",
       "      <th>4</th>\n",
       "      <td>2</td>\n",
       "      <td>0</td>\n",
       "      <td>30.00</td>\n",
       "    </tr>\n",
       "    <tr>\n",
       "      <th>5</th>\n",
       "      <td>2</td>\n",
       "      <td>1</td>\n",
       "      <td>29.00</td>\n",
       "    </tr>\n",
       "    <tr>\n",
       "      <th>6</th>\n",
       "      <td>2</td>\n",
       "      <td>2</td>\n",
       "      <td>23.50</td>\n",
       "    </tr>\n",
       "    <tr>\n",
       "      <th>7</th>\n",
       "      <td>2</td>\n",
       "      <td>3</td>\n",
       "      <td>30.00</td>\n",
       "    </tr>\n",
       "    <tr>\n",
       "      <th>8</th>\n",
       "      <td>3</td>\n",
       "      <td>0</td>\n",
       "      <td>26.00</td>\n",
       "    </tr>\n",
       "    <tr>\n",
       "      <th>9</th>\n",
       "      <td>3</td>\n",
       "      <td>1</td>\n",
       "      <td>25.00</td>\n",
       "    </tr>\n",
       "    <tr>\n",
       "      <th>10</th>\n",
       "      <td>3</td>\n",
       "      <td>2</td>\n",
       "      <td>19.50</td>\n",
       "    </tr>\n",
       "    <tr>\n",
       "      <th>11</th>\n",
       "      <td>3</td>\n",
       "      <td>3</td>\n",
       "      <td>6.00</td>\n",
       "    </tr>\n",
       "    <tr>\n",
       "      <th>12</th>\n",
       "      <td>3</td>\n",
       "      <td>4</td>\n",
       "      <td>6.50</td>\n",
       "    </tr>\n",
       "    <tr>\n",
       "      <th>13</th>\n",
       "      <td>3</td>\n",
       "      <td>5</td>\n",
       "      <td>11.00</td>\n",
       "    </tr>\n",
       "    <tr>\n",
       "      <th>14</th>\n",
       "      <td>3</td>\n",
       "      <td>8</td>\n",
       "      <td>15.25</td>\n",
       "    </tr>\n",
       "  </tbody>\n",
       "</table>\n",
       "</div>"
      ],
      "text/plain": [
       "    Pclass  SibSp    Age\n",
       "0        1      0  37.00\n",
       "1        1      1  38.00\n",
       "2        1      2  44.00\n",
       "3        1      3  23.00\n",
       "4        2      0  30.00\n",
       "5        2      1  29.00\n",
       "6        2      2  23.50\n",
       "7        2      3  30.00\n",
       "8        3      0  26.00\n",
       "9        3      1  25.00\n",
       "10       3      2  19.50\n",
       "11       3      3   6.00\n",
       "12       3      4   6.50\n",
       "13       3      5  11.00\n",
       "14       3      8  15.25"
      ]
     },
     "execution_count": 18,
     "metadata": {},
     "output_type": "execute_result"
    }
   ],
   "source": [
    "age_df = pd.DataFrame(data_org.groupby(['Pclass','SibSp'])['Age'].median()).reset_index()\n",
    "age_df.iloc[14,2] = age_df[age_df['Pclass'] == 3]['Age'].median()\n",
    "age_df"
   ]
  },
  {
   "cell_type": "code",
   "execution_count": 19,
   "id": "e883fbab",
   "metadata": {},
   "outputs": [],
   "source": [
    "for i in range(len(data_org)):\n",
    "    if pd.isna(data_org.iloc[i,4]):\n",
    "        data_org.iloc[i,4] = age_df[(age_df['Pclass'] == data_org.iloc[i,2]) & (age_df['SibSp'] == data_org.iloc[i,5])]\n",
    "        \n",
    "for i in range(len(data_test)):\n",
    "    if pd.isna(data_test.iloc[i,3]):\n",
    "        data_test.iloc[i,3] = age_df[(age_df['Pclass'] == data_test.iloc[i,1]) & (age_df['SibSp'] == data_test.iloc[i,4])]"
   ]
  },
  {
   "cell_type": "markdown",
   "id": "379b775d",
   "metadata": {},
   "source": [
    "## 2. New Features <br>\n",
    "Create a new feature Family Size = Parch + SibSP + 1"
   ]
  },
  {
   "cell_type": "code",
   "execution_count": 20,
   "id": "eabe7b12",
   "metadata": {},
   "outputs": [
    {
     "data": {
      "text/plain": [
       "<AxesSubplot:xlabel='Family', ylabel='count'>"
      ]
     },
     "execution_count": 20,
     "metadata": {},
     "output_type": "execute_result"
    },
    {
     "data": {
      "image/png": "[encoded data removed]",
      "text/plain": [
       "<Figure size 432x288 with 1 Axes>"
      ]
     },
     "metadata": {
      "needs_background": "light"
     },
     "output_type": "display_data"
    }
   ],
   "source": [
    "data_org['Family'] = data_org['Parch'] + data_org['SibSp'] + 1\n",
    "data_test['Family'] = data_test['Parch'] + data_test['SibSp'] + 1\n",
    "sns.countplot(x = 'Family', data = data_org)"
   ]
  },
  {
   "cell_type": "code",
   "execution_count": 21,
   "id": "1c1e9823",
   "metadata": {},
   "outputs": [],
   "source": [
    "data_org['Alone'] = data_org['Family'].apply(lambda x: 1 if x == 1 else 0)\n",
    "data_test['Alone'] = data_test['Family'].apply(lambda x: 1 if x == 1 else 0)"
   ]
  },
  {
   "cell_type": "markdown",
   "id": "e1880942",
   "metadata": {},
   "source": [
    "## 3. Binarize skewed data"
   ]
  },
  {
   "cell_type": "code",
   "execution_count": 22,
   "id": "31493018",
   "metadata": {
    "scrolled": true
   },
   "outputs": [],
   "source": [
    "data_org['Parch'] = data_org['Parch'].apply(lambda x: str(x) if x < 2 else \">=2\")\n",
    "data_org['SibSp'] = data_org['SibSp'].apply(lambda x: str(x) if x < 2 else \">=2\")\n",
    "data_org['Family'] = data_org['Family'].apply(lambda x: str(x) if x < 4 else \">=4\")\n",
    "data_org['Cabin'] = data_org['Cabin'].apply(lambda x: \"Cabin\" if x != 'NaN' else \"No Cabin\")\n",
    "data_test['Parch'] = data_test['Parch'].apply(lambda x: str(x) if x < 2 else \">=2\")\n",
    "data_test['SibSp'] = data_test['SibSp'].apply(lambda x: str(x) if x < 2 else \">=2\")\n",
    "data_test['Family'] = data_test['Family'].apply(lambda x: str(x) if x < 4 else \">=4\")\n",
    "data_test['Cabin'] = data_test['Cabin'].apply(lambda x: \"Cabin\" if x != 'NaN' else \"No Cabin\")"
   ]
  },
  {
   "cell_type": "code",
   "execution_count": 23,
   "id": "8f91f514",
   "metadata": {
    "scrolled": false
   },
   "outputs": [
    {
     "data": {
      "image/png": "[encoded data removed]",
      "text/plain": [
       "<Figure size 1728x864 with 8 Axes>"
      ]
     },
     "metadata": {
      "needs_background": "light"
     },
     "output_type": "display_data"
    }
   ],
   "source": [
    "cat_vars = ['Pclass','Sex','SibSp','Parch','Cabin','Embarked','Family','Alone']\n",
    "plt.figure(figsize = (24,12))\n",
    "for i in range(2):\n",
    "    for j in range(4):\n",
    "        ind = i*4 + j\n",
    "        plt.subplot(2,4,ind+1)\n",
    "        sns.countplot(x = cat_vars[ind], hue = 'Survived', data = data_org)"
   ]
  },
  {
   "cell_type": "code",
   "execution_count": 24,
   "id": "b689ef45",
   "metadata": {
    "scrolled": false
   },
   "outputs": [
    {
     "data": {
      "text/plain": [
       "<AxesSubplot:xlabel='Fare', ylabel='Count'>"
      ]
     },
     "execution_count": 24,
     "metadata": {},
     "output_type": "execute_result"
    },
    {
     "data": {
      "image/png": "[encoded data removed]",
      "text/plain": [
       "<Figure size 864x432 with 2 Axes>"
      ]
     },
     "metadata": {
      "needs_background": "light"
     },
     "output_type": "display_data"
    }
   ],
   "source": [
    "plt.figure(figsize = (12,6))\n",
    "plt.subplot(1,2,1)\n",
    "sns.histplot(x = 'Age', hue = 'Survived', data = data_org)\n",
    "plt.subplot(1,2,2)\n",
    "sns.histplot(x = 'Fare', hue = 'Survived', data = data_org)"
   ]
  },
  {
   "cell_type": "code",
   "execution_count": 25,
   "id": "708c1767",
   "metadata": {},
   "outputs": [],
   "source": [
    "fare_labels = [\"0-10\",\"10-20\",\"20-30\",\"30-40\",\"40-50\",\"50-60\",\n",
    "               \"60-70\",\"70-80\",\"80-90\",\"90-100\",\">100\"]\n",
    "fare_bins = [0,10,20,30,40,50,60,70,80,90,100,data_org['Fare'].max()]"
   ]
  },
  {
   "cell_type": "code",
   "execution_count": 26,
   "id": "2e1180f0",
   "metadata": {},
   "outputs": [],
   "source": [
    "data_org['Fare'] = pd.cut(data_org['Fare'], bins = fare_bins, labels = fare_labels)\n",
    "data_test['Fare'] = pd.cut(data_test['Fare'], bins = fare_bins, labels = fare_labels)"
   ]
  },
  {
   "cell_type": "code",
   "execution_count": 27,
   "id": "6a21c880",
   "metadata": {},
   "outputs": [],
   "source": [
    "data_test.drop(columns = ['Parch','SibSp','Family'],\n",
    "              inplace = True)"
   ]
  },
  {
   "cell_type": "markdown",
   "id": "fc930b48",
   "metadata": {},
   "source": [
    "## 4. OneHotEncoding and StandardScaler"
   ]
  },
  {
   "cell_type": "code",
   "execution_count": 28,
   "id": "e498c837",
   "metadata": {
    "scrolled": true
   },
   "outputs": [
    {
     "name": "stdout",
     "output_type": "stream",
     "text": [
      "(891, 19) (891,)\n"
     ]
    }
   ],
   "source": [
    "#cat_vars = ['Pclass','Sex','SibSp','Parch','Cabin','Embarked','Family','Alone','Fare']\n",
    "cat_vars = ['Pclass','Sex','Cabin','Embarked','Alone','Fare']\n",
    "num_vars = ['Age']\n",
    "\n",
    "enc = preprocessing.OneHotEncoder(drop = 'first')\n",
    "dummies_train = enc.fit_transform(data_org[cat_vars]).toarray()\n",
    "scl = preprocessing.StandardScaler()\n",
    "scl_cont_train = scl.fit_transform(data_org[num_vars])\n",
    "X_train = np.concatenate([scl_cont_train,dummies_train], axis = 1)\n",
    "y = data_org['Survived'].values\n",
    "print(X_train.shape, y.shape)"
   ]
  },
  {
   "cell_type": "code",
   "execution_count": 29,
   "id": "c151dd11",
   "metadata": {},
   "outputs": [
    {
     "name": "stdout",
     "output_type": "stream",
     "text": [
      "(418, 19)\n"
     ]
    }
   ],
   "source": [
    "## Transform Test Data\n",
    "dummies_test = enc.transform(data_test[cat_vars]).toarray()\n",
    "scl_cont_test = scl.transform(data_test[num_vars])\n",
    "X_test = np.concatenate([scl_cont_test,dummies_test], axis = 1)\n",
    "print(X_test.shape)"
   ]
  },
  {
   "cell_type": "markdown",
   "id": "8ac4301a",
   "metadata": {},
   "source": [
    "# Model Fitting"
   ]
  },
  {
   "cell_type": "markdown",
   "id": "7a1c4816",
   "metadata": {},
   "source": [
    "The training dataset is split into "
   ]
  },
  {
   "cell_type": "code",
   "execution_count": 30,
   "id": "7a831dca",
   "metadata": {},
   "outputs": [],
   "source": [
    "from sklearn import model_selection, metrics\n",
    "\n",
    "x_train, x_test, y_train, y_test = model_selection.train_test_split(X_train,y,test_size = 0.3,\n",
    "                                                                   random_state = 2022)"
   ]
  },
  {
   "cell_type": "code",
   "execution_count": 31,
   "id": "f48cd33f",
   "metadata": {},
   "outputs": [
    {
     "name": "stdout",
     "output_type": "stream",
     "text": [
      "{'C': 0.1}\n"
     ]
    },
    {
     "data": {
      "text/plain": [
       "LogisticRegression(C=0.1, max_iter=1000)"
      ]
     },
     "execution_count": 31,
     "metadata": {},
     "output_type": "execute_result"
    }
   ],
   "source": [
    "from sklearn.linear_model import LogisticRegression\n",
    "lr_grid = {'C':[0.01, 0.1, 1, 10, 100, 1000]}\n",
    "\n",
    "gcv_lr = model_selection.GridSearchCV(estimator = LogisticRegression(max_iter = 1000),\n",
    "                                  param_grid = lr_grid,\n",
    "                                  cv = 10)\n",
    "gcv_lr.fit(x_train,y_train)\n",
    "print(gcv_lr.best_params_)\n",
    "lr = gcv_lr.best_estimator_\n",
    "lr.fit(x_train,y_train)"
   ]
  },
  {
   "cell_type": "code",
   "execution_count": 32,
   "id": "95c1481d",
   "metadata": {},
   "outputs": [],
   "source": [
    "from sklearn import ensemble"
   ]
  },
  {
   "cell_type": "code",
   "execution_count": 33,
   "id": "be47c4a1",
   "metadata": {},
   "outputs": [
    {
     "name": "stdout",
     "output_type": "stream",
     "text": [
      "Best  hyperparameters: {'max_features': 0.8, 'max_samples': 0.8}\n",
      "Score: 0.8299539170506913\n"
     ]
    },
    {
     "data": {
      "text/plain": [
       "BaggingClassifier(max_features=0.8, max_samples=0.8, n_estimators=100,\n",
       "                  oob_score=True, random_state=2022)"
      ]
     },
     "execution_count": 33,
     "metadata": {},
     "output_type": "execute_result"
    }
   ],
   "source": [
    "bag_grid = {'max_samples':[0.2,0.4,0.6,0.8,1.0],\n",
    "           'max_features':[0.2,0.4,0.6,0.8,1.0]}\n",
    "\n",
    "gcv_bag = model_selection.GridSearchCV(estimator = ensemble.BaggingClassifier(n_estimators = 100,\n",
    "                                                                             random_state = 2022,\n",
    "                                                                             oob_score = True),\n",
    "                                       param_grid = bag_grid,\n",
    "                                      cv = 10)\n",
    "gcv_bag.fit(x_train,y_train)\n",
    "print('Best  hyperparameters:',gcv_bag.best_params_)\n",
    "print('Score:',gcv_bag.best_score_)\n",
    "bag = gcv_bag.best_estimator_\n",
    "bag.fit(x_train,y_train)"
   ]
  },
  {
   "cell_type": "code",
   "execution_count": 34,
   "id": "def82dd0",
   "metadata": {},
   "outputs": [
    {
     "name": "stdout",
     "output_type": "stream",
     "text": [
      "Best  hyperparameters: {'max_depth': 7, 'min_samples_leaf': 1}\n",
      "Score: 0.8155913978494624\n"
     ]
    },
    {
     "data": {
      "text/plain": [
       "RandomForestClassifier(max_depth=7, oob_score=True, random_state=2022)"
      ]
     },
     "execution_count": 34,
     "metadata": {},
     "output_type": "execute_result"
    }
   ],
   "source": [
    "rf_grid = {'max_depth' : [4,5,6,7],\n",
    "              'min_samples_leaf' : [1,2,3,4]}\n",
    "\n",
    "gcv_rf = model_selection.GridSearchCV(estimator = ensemble.RandomForestClassifier(n_estimators = 100,\n",
    "                                                                                 random_state = 2022,\n",
    "                                                                                 oob_score = True),\n",
    "                                  param_grid = rf_grid,\n",
    "                                  cv = 10)\n",
    "\n",
    "gcv_rf.fit(x_train, y_train)\n",
    "print('Best  hyperparameters:',gcv_rf.best_params_)\n",
    "print('Score:',gcv_rf.best_score_)\n",
    "\n",
    "rf = gcv_rf.best_estimator_\n",
    "rf.fit(x_train,y_train)"
   ]
  },
  {
   "cell_type": "code",
   "execution_count": 35,
   "id": "a5cf2547",
   "metadata": {},
   "outputs": [
    {
     "name": "stdout",
     "output_type": "stream",
     "text": [
      "Best hyperparameters: {'learning_rate': 0.2}\n",
      "Score: 0.7882488479262674\n"
     ]
    },
    {
     "data": {
      "text/plain": [
       "AdaBoostClassifier(learning_rate=0.2, n_estimators=100, random_state=2022)"
      ]
     },
     "execution_count": 35,
     "metadata": {},
     "output_type": "execute_result"
    }
   ],
   "source": [
    "ada_grid = {'learning_rate': [0.2, 0.4, 0.6, 0.8, 1.0, 1.2, 1.4]}\n",
    "gcv_ada = model_selection.GridSearchCV(estimator = ensemble.AdaBoostClassifier(n_estimators = 100,\n",
    "                                                                              random_state = 2022),\n",
    "                                      param_grid = ada_grid,\n",
    "                                      cv = 10)\n",
    "gcv_ada.fit(x_train,y_train)\n",
    "print('Best hyperparameters:',gcv_ada.best_params_)\n",
    "print('Score:',gcv_ada.best_score_)\n",
    "\n",
    "ada = gcv_ada.best_estimator_\n",
    "ada.fit(x_train,y_train)"
   ]
  },
  {
   "cell_type": "code",
   "execution_count": 36,
   "id": "2e132de9",
   "metadata": {},
   "outputs": [
    {
     "name": "stdout",
     "output_type": "stream",
     "text": [
      "Best hyperparameters: {'learning_rate': 0.2}\n",
      "Score: 0.7882488479262674\n"
     ]
    },
    {
     "data": {
      "text/plain": [
       "GradientBoostingClassifier(random_state=2022, subsample=1)"
      ]
     },
     "execution_count": 36,
     "metadata": {},
     "output_type": "execute_result"
    }
   ],
   "source": [
    "gb_grid = {'learning_rate':[0.01,0.1,1],\n",
    "          'subsample':[0.25,0.5,1],\n",
    "          'max_depth':[2,3,4]}\n",
    "gcv_gb = model_selection.GridSearchCV(estimator = ensemble.GradientBoostingClassifier(n_estimators = 100,\n",
    "                                                                                      random_state = 2022),\n",
    "                                      param_grid = gb_grid,\n",
    "                                      cv = 10)\n",
    "gcv_gb.fit(x_train,y_train)\n",
    "print('Best hyperparameters:',gcv_ada.best_params_)\n",
    "print('Score:',gcv_ada.best_score_)\n",
    "\n",
    "gb = gcv_gb.best_estimator_\n",
    "gb.fit(x_train,y_train)"
   ]
  },
  {
   "cell_type": "code",
   "execution_count": 37,
   "id": "9f5b4edd",
   "metadata": {},
   "outputs": [],
   "source": [
    "models = [lr,bag,rf,ada,gb]\n",
    "accuracy = [0] * 5\n",
    "for i in range(5):\n",
    "    models[i].fit(x_train,y_train)\n",
    "    y_pred = models[i].predict(x_test)\n",
    "    accuracy[i] = metrics.accuracy_score(y_test,y_pred)"
   ]
  },
  {
   "cell_type": "code",
   "execution_count": 38,
   "id": "73a17e7c",
   "metadata": {},
   "outputs": [
    {
     "data": {
      "text/plain": [
       "(0.7, 0.85)"
      ]
     },
     "execution_count": 38,
     "metadata": {},
     "output_type": "execute_result"
    },
    {
     "data": {
      "image/png": "[encoded data removed]",
      "text/plain": [
       "<Figure size 864x432 with 1 Axes>"
      ]
     },
     "metadata": {
      "needs_background": "light"
     },
     "output_type": "display_data"
    }
   ],
   "source": [
    "plt.figure(figsize = (12,6))\n",
    "plt.bar(['lr','bag','rf','ada','gb'],accuracy)\n",
    "plt.ylim(0.7,0.85)"
   ]
  },
  {
   "cell_type": "code",
   "execution_count": 39,
   "id": "b0c770ad",
   "metadata": {},
   "outputs": [],
   "source": [
    "model_labels = ['lr','bag','rf','ada','gb']\n",
    "for i in range(5):\n",
    "    final_pred = models[i].predict(X_test)\n",
    "    output = pd.DataFrame({'PassengerId':data_test['PassengerId'],'Survived': final_pred})\n",
    "    output.to_csv(model_labels[i] + 'submission.csv', index=False)"
   ]
  }
 ],
 "metadata": {
  "kernelspec": {
   "display_name": "Python 3 (ipykernel)",
   "language": "python",
   "name": "python3"
  },
  "language_info": {
   "codemirror_mode": {
    "name": "ipython",
    "version": 3
   },
   "file_extension": ".py",
   "mimetype": "text/x-python",
   "name": "python",
   "nbconvert_exporter": "python",
   "pygments_lexer": "ipython3",
   "version": "3.8.8"
  }
 },
 "nbformat": 4,
 "nbformat_minor": 5
}
